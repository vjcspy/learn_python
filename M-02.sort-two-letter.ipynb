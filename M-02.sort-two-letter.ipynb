{
 "cells": [
  {
   "cell_type": "markdown",
   "metadata": {},
   "source": [
    "A....AB...B. Cần phải delete các ký tự thừa để làm cho chuỗi thỏa mãn:\n",
    " A xuất hiện trước B ví dụ AAAAABB, hoặc chỉ tồn tại mỗi AAAA, hoặc mỗi BBBBB\n",
    "\n",
    "- Given S= 'BAAABAB' return 2\n",
    "- Given S=\"BBABAA\" return 3\n",
    "- Given AABBBBB return 0"
   ]
  },
  {
   "cell_type": "code",
   "execution_count": 5,
   "metadata": {},
   "outputs": [
    {
     "name": "stdout",
     "output_type": "stream",
     "text": [
      "2\n",
      "3\n",
      "0\n",
      "0\n",
      "0\n",
      "2\n"
     ]
    }
   ],
   "source": [
    "def solution(S:str):\n",
    "    # tìm block chứa BA..A với A có thể là 0 đến N, trừ block cuối cùng\n",
    "    # số block này chính là số cần phải delete\n",
    "    \n",
    "    # lúc lặp thì sẽ tính tổng A, tổng B.\n",
    "    # cuối cùng tìm min(tổng A, tổng B, block B(A..A))\n",
    "    chain = 0\n",
    "    total_a = 0\n",
    "    total_b = 0\n",
    "    total = 0\n",
    "    for string in S:\n",
    "        if string == 'B':\n",
    "            total_b += 1\n",
    "            chain += 1\n",
    "        else:\n",
    "            total_a +=1 \n",
    "            total += chain\n",
    "            chain = 0\n",
    "            \n",
    "    return min(total, total_a, total_b)\n",
    "\n",
    "print(solution(\"BAAABAB\"))\n",
    "print(solution(\"BBABAA\"))\n",
    "print(solution(\"AABBBBB\"))\n",
    "print(solution(\"BBBBBB\"))\n",
    "print(solution(\"AAAAAAA\"))\n",
    "print(solution(\"BAAABAA\"))"
   ]
  },
  {
   "cell_type": "code",
   "execution_count": null,
   "metadata": {},
   "outputs": [],
   "source": []
  }
 ],
 "metadata": {
  "kernelspec": {
   "display_name": "grind75-env",
   "language": "python",
   "name": "python3"
  },
  "language_info": {
   "codemirror_mode": {
    "name": "ipython",
    "version": 3
   },
   "file_extension": ".py",
   "mimetype": "text/x-python",
   "name": "python",
   "nbconvert_exporter": "python",
   "pygments_lexer": "ipython3",
   "version": "3.11.4"
  }
 },
 "nbformat": 4,
 "nbformat_minor": 2
}
