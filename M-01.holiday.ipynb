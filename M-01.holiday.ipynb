{
 "cells": [
  {
   "cell_type": "markdown",
   "metadata": {},
   "source": [
    "A group of friends is going on holiday together. They have come to a meeting point \n",
    "(the start of the journey) using N cars. There are P[K] people and S[K] seats in the K-th \n",
    "car for K in range [O..N-1). Some of the seats in the cars may be free, so it is possible\n",
    "for some of the friends to change the car they are in. The friends have decided that,\n",
    "in order to be ecological, they will leave some cars parked at the meeting point and \n",
    "travel with as few cars as possible. \n",
    "\n",
    "Write a function: \n",
    "\tclass Solution {\n",
    "\t\tpublic int solution(int[] P, int[] S); \n",
    "\t} \n",
    "\t\n",
    "that, given two arrays P and S, consisting of N integers each, returns the minimum number \n",
    "of cars needed to take all of the friends on holiday. \n",
    "\n",
    "# Examples: \n",
    "1. Given P = [1, 4, 1] and S = [1, 5, 1], the function should return 2. A person from car \n",
    "number 0 can travel in car number 1 instead. This way, car number 0 can be left parked at the meeting point. \n",
    "2. Given P = [4, 4, 2, 4] and S = [5, 5, 2, 5], the function should return 3. One person \n",
    "from car number 2 can travel in car number 0 and other person from car number 2 can travel in car number\n",
    "3. Given P = [2, 3, 4, 2] and S = [2, 5, 7, 2], the function should return 2. Passengers \n",
    "from car number 0 can travel in car number 1 and passengers from car number 3 can travel in car number 2. \n",
    " "
   ]
  },
  {
   "cell_type": "code",
   "execution_count": null,
   "metadata": {},
   "outputs": [],
   "source": [
    "from typing import List\n",
    "def solution(P: List[int], S: List[int]):\n",
    "    # sort seat each car\n",
    "    # total person\n",
    "    # for_each_car \n",
    "    pass"
   ]
  }
 ],
 "metadata": {
  "language_info": {
   "name": "python"
  }
 },
 "nbformat": 4,
 "nbformat_minor": 2
}
