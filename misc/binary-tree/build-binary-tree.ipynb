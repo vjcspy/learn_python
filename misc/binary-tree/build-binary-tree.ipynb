{
 "cells": [
  {
   "attachments": {},
   "cell_type": "markdown",
   "metadata": {},
   "source": [
    "Mình làm việc với binary tree khá nhiều. Vậy để test các solution. Cần thiết phải build được binaryTree từ array.\n",
    "\n"
   ]
  },
  {
   "cell_type": "code",
   "execution_count": 20,
   "metadata": {},
   "outputs": [],
   "source": [
    "class TreeNode:\n",
    "    def __init__(self, x=None, left=None, right=None):\n",
    "        self.value = x\n",
    "        self.left = left\n",
    "        self.right = right"
   ]
  },
  {
   "cell_type": "markdown",
   "metadata": {},
   "source": [
    "Giả sử cho binary tree như sau"
   ]
  },
  {
   "cell_type": "markdown",
   "metadata": {},
   "source": [
    "![binary tree](../../assets/binarysearchtree_improved.png)\n",
    "```\n",
    "Input: root = [6,2,8,0,4,7,9,null,null,3,5]"
   ]
  },
  {
   "cell_type": "markdown",
   "metadata": {},
   "source": [
    "Nhìn vào hình thì cách giải:\n",
    "- Đệ quy nghĩ đến đầu tiên. (recursive)"
   ]
  },
  {
   "cell_type": "code",
   "execution_count": 34,
   "metadata": {},
   "outputs": [
    {
     "name": "stdout",
     "output_type": "stream",
     "text": [
      "<__main__.TreeNode object at 0x10d3dc350>\n"
     ]
    }
   ],
   "source": [
    "def resolveTreeNode(node: TreeNode, level: int = 1, order: int = 0, data: list = []):\n",
    "    value_pos = cal_level_pos(level=level)\n",
    "\n",
    "    # dieu kien de break recursive\n",
    "    if len(data) <= value_pos - 1 + order:\n",
    "        return None\n",
    "\n",
    "    node.value = data[value_pos - 1 + order]\n",
    "\n",
    "    if node.value is None:\n",
    "        return None\n",
    "\n",
    "    node.left = resolveTreeNode(\n",
    "        node=TreeNode(), level=level + 1, order=order * 2, data=data\n",
    "    )\n",
    "\n",
    "    node.right = resolveTreeNode(\n",
    "        node=TreeNode(), level=level + 1, order=order * 2 + 1, data=data\n",
    "    )\n",
    "\n",
    "    return node\n",
    "\n",
    "\n",
    "# mình không nghĩ được luôn công thức tổng quát của 2**0 + 2**1 + 2**2 + ... + 2**n nên sẽ viết hàm nhờ máy giải\n",
    "# Trả về pos của phần tử đầu tiên của level, phần tử có order bằng 0\n",
    "def cal_level_pos(level: int):\n",
    "    pos = 1\n",
    "\n",
    "    for i in range(1, level):\n",
    "        pos += 2 ** (i - 1)\n",
    "\n",
    "    return pos\n",
    "\n",
    "\n",
    "root = resolveTreeNode(\n",
    "    node=TreeNode(), level=1, order=0, data=[6, 2, 8, 0, 4, 7, 9, None, None, 3, 5]\n",
    ")"
   ]
  }
 ],
 "metadata": {
  "kernelspec": {
   "display_name": "Python 3",
   "language": "python",
   "name": "python3"
  },
  "language_info": {
   "codemirror_mode": {
    "name": "ipython",
    "version": 3
   },
   "file_extension": ".py",
   "mimetype": "text/x-python",
   "name": "python",
   "nbconvert_exporter": "python",
   "pygments_lexer": "ipython3",
   "version": "3.11.4"
  },
  "orig_nbformat": 4,
  "vscode": {
   "interpreter": {
    "hash": "907f04077fb5591def24a5519ee287b47a8dbc83b66eaaf3e7631366b1499070"
   }
  }
 },
 "nbformat": 4,
 "nbformat_minor": 2
}
