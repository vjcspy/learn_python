{
 "cells": [
  {
   "attachments": {},
   "cell_type": "markdown",
   "metadata": {},
   "source": [
    "# Implement"
   ]
  },
  {
   "attachments": {},
   "cell_type": "markdown",
   "metadata": {},
   "source": [
    "> Like Merge sort, **quick sort** is a **Divine and conquer paradigm**\n",
    "\n",
    "Quick sort chọn một phần tử làm pivot. Sau đó so sánh các phần tử còn lại. Nếu lớn hơn thì swap để đưa sang bên phải pivot. Bé hơn thì đưa sang bên trái pivot.\n",
    "\n",
    "Có nhiều cách chọn pivot. Dưới đây ta chọn phần tử cuối cùng làm pivot"
   ]
  },
  {
   "attachments": {},
   "cell_type": "markdown",
   "metadata": {},
   "source": [
    "![Merge sort Explain](../../assets/QuickSort2.png)"
   ]
  },
  {
   "cell_type": "code",
   "execution_count": 1,
   "metadata": {},
   "outputs": [],
   "source": [
    "# Thuật toán đổi chỗ này rất hay. Mình không thể hiểu được logic khi đọc lần đầu tiên.\n",
    "# Cụ thể: sẽ có 1 pointer i thể hiện từ 0 -> i sẽ là những phần tử nhỏ hơn pivot. Xem function thì sẽ hiểu và thấy nó rất hay\n",
    "def partition(arr, start, end):\n",
    "    # print('swap from', start, 'to', end, 'with array', arr)\n",
    "    # Từ 0 -> i sẽ là những phần tử nhỏ hơn pivot\n",
    "    i = start - 1\n",
    "\n",
    "    # sử dụng cách chọn phần tử cuối cùng làm pivot\n",
    "    pivot = arr[end]\n",
    "\n",
    "    for j in range(start, end+1):\n",
    "        # chỗ này để bằng rất hợp lý, để nó có thể swap phần tử cuối cùng\n",
    "        if arr[j] <= pivot:\n",
    "            i += 1\n",
    "            arr[i], arr[j] = arr[j], arr[i]\n",
    "\n",
    "    return i\n",
    "\n",
    "\n",
    "def quick_sort(array, start, end):\n",
    "    if start < end:\n",
    "        # Find pivot element such that\n",
    "        # element smaller than pivot are on the left\n",
    "        # element greater than pivot are on the right\n",
    "        pivot_index = partition(array, start, end)\n",
    "        # print('after swap', array, 'with pivot index', pivot_index)\n",
    "        # Recursive call on the left of pivot\n",
    "        quick_sort(array, start, pivot_index - 1)\n",
    "\n",
    "        # Recursive call on the right of pivot\n",
    "        quick_sort(array, pivot_index + 1, end)\n"
   ]
  },
  {
   "cell_type": "markdown",
   "metadata": {},
   "source": [
    "# Test performance"
   ]
  },
  {
   "cell_type": "code",
   "execution_count": 2,
   "metadata": {},
   "outputs": [],
   "source": [
    "import cProfile\n",
    "from numpy import random"
   ]
  },
  {
   "cell_type": "code",
   "execution_count": 3,
   "metadata": {},
   "outputs": [],
   "source": [
    "num_of_arr = 100\n",
    "num_of_elem = 5000\n",
    "\n",
    "\n",
    "def generate_array(numOfArray, numOfElem):\n",
    "    list_to_sort = []\n",
    "    for _ in range(numOfArray):\n",
    "        list_to_sort.append(random.randint(10000, size=(numOfElem)))\n",
    "        \n",
    "    return list_to_sort\n"
   ]
  },
  {
   "cell_type": "code",
   "execution_count": 4,
   "metadata": {},
   "outputs": [
    {
     "name": "stdout",
     "output_type": "stream",
     "text": [
      "         1003457 function calls (334555 primitive calls) in 2.529 seconds\n",
      "\n",
      "   Ordered by: standard name\n",
      "\n",
      "   ncalls  tottime  percall  cumtime  percall filename:lineno(function)\n",
      "669002/100    0.241    0.000    2.529    0.025 1422840282.py:20(quick_sort)\n",
      "   334451    2.288    0.000    2.288    0.000 1422840282.py:3(partition)\n",
      "        1    0.000    0.000    2.529    2.529 3941660368.py:4(perf)\n",
      "        1    0.000    0.000    2.529    2.529 <string>:1(<module>)\n",
      "        1    0.000    0.000    2.529    2.529 {built-in method builtins.exec}\n",
      "        1    0.000    0.000    0.000    0.000 {method 'disable' of '_lsprof.Profiler' objects}\n",
      "\n",
      "\n"
     ]
    }
   ],
   "source": [
    "list_to_sort = generate_array(num_of_arr, num_of_elem)\n",
    "\n",
    "\n",
    "def perf():\n",
    "    for r in list_to_sort:\n",
    "        quick_sort(r, 0, num_of_elem-1)\n",
    "\n",
    "\n",
    "cProfile.run('perf()')\n"
   ]
  },
  {
   "attachments": {},
   "cell_type": "markdown",
   "metadata": {},
   "source": [
    "# QuickSort Tail Call Optimization\n",
    "\n",
    "https://www.geeksforgeeks.org/quicksort-on-singly-linked-list/"
   ]
  }
 ],
 "metadata": {
  "kernelspec": {
   "display_name": "Python 3",
   "language": "python",
   "name": "python3"
  },
  "language_info": {
   "codemirror_mode": {
    "name": "ipython",
    "version": 3
   },
   "file_extension": ".py",
   "mimetype": "text/x-python",
   "name": "python",
   "nbconvert_exporter": "python",
   "pygments_lexer": "ipython3",
   "version": "3.9.16"
  },
  "orig_nbformat": 4,
  "vscode": {
   "interpreter": {
    "hash": "907f04077fb5591def24a5519ee287b47a8dbc83b66eaaf3e7631366b1499070"
   }
  }
 },
 "nbformat": 4,
 "nbformat_minor": 2
}
