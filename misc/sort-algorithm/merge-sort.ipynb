{
 "cells": [
  {
   "attachments": {},
   "cell_type": "markdown",
   "metadata": {},
   "source": [
    "# Implement"
   ]
  },
  {
   "attachments": {},
   "cell_type": "markdown",
   "metadata": {},
   "source": [
    "> Merge sort algorithm base on the **divide and conquer** paradigm\n",
    "\n",
    "Các bước:\n",
    "\n",
    "1. Đệ quy để chia đôi array ra thành 2 mảng L và R, cho đến khi không chia được nữa\n",
    "2. Sắp sếp từ dưới lên, bằng cách so sánh các phần tử đầu tiên ở 2 array đã chia ra. Ở đây không có gì cao siêu ngoài việc chạy iterator 2 array L và R và so sánh các phần tử đầu tiên giữa chúng. Phần tử bên nào nhỏ hơn thì sẽ đẩy vào mảng tạm. Bên nào hết trước thì đẩy toàn bộ bên kia vào phần còn lại của mảng tạm.\n",
    "\n"
   ]
  },
  {
   "attachments": {},
   "cell_type": "markdown",
   "metadata": {},
   "source": [
    "![Merge sort Explain](../../assets/MergeSortTutorial.png)"
   ]
  },
  {
   "cell_type": "code",
   "execution_count": 1,
   "metadata": {},
   "outputs": [],
   "source": [
    "def mergeSort(arr):\n",
    "    if (len(arr) > 1):\n",
    "        mid = len(arr) // 2\n",
    "\n",
    "        L = arr[:mid]\n",
    "        R = arr[mid:]\n",
    "\n",
    "        mergeSort(L)\n",
    "        mergeSort(R)\n",
    "\n",
    "        i = j = k = 0\n",
    "\n",
    "        # sắp sếp lại các phần tử của L và R và gán chúng vào array\n",
    "        while i < len(L) and j < len(R):\n",
    "            if L[i] <= R[j]:\n",
    "                arr[k] = L[i]\n",
    "                i += 1\n",
    "            else:\n",
    "                arr[k] = R[j]\n",
    "                j += 1\n",
    "            k += 1\n",
    "\n",
    "        # Chèn các phần tử còn lại của L hoặc R vào array\n",
    "        while i < len(L):\n",
    "            arr[k] = L[i]\n",
    "            i += 1\n",
    "            k += 1\n",
    "\n",
    "        while j < len(R):\n",
    "            arr[k] = R[j]\n",
    "            j += 1\n",
    "            k += 1\n"
   ]
  },
  {
   "attachments": {},
   "cell_type": "markdown",
   "metadata": {},
   "source": [
    "Có thể nhận thấy ở trên là modify thẳng vào array. Bởi thông thường các algorithm đều quan tâm đến ***memory*** khi xử lý. Đối với mảng lớn. Việc tạo thêm các biến sẽ gây lãng phí bộ nhớ. Tuy nhiên, với merge sort, bắt buộc phải tạo thêm 2 mảng L và R. Do đó, memory sử dụng thêm sẽ là ***O(n)***"
   ]
  },
  {
   "attachments": {},
   "cell_type": "markdown",
   "metadata": {},
   "source": [
    "# Test performance"
   ]
  },
  {
   "cell_type": "code",
   "execution_count": 2,
   "metadata": {},
   "outputs": [],
   "source": [
    "import cProfile\n",
    "from numpy import random"
   ]
  },
  {
   "cell_type": "code",
   "execution_count": 3,
   "metadata": {},
   "outputs": [],
   "source": [
    "num_of_arr = 100\n",
    "num_of_elem = 5000\n",
    "\n",
    "\n",
    "def generate_array(numOfArray, numOfElem):\n",
    "    list_to_sort = []\n",
    "    for _ in range(numOfArray):\n",
    "        list_to_sort.append(random.randint(10000, size=(numOfElem)))\n",
    "        \n",
    "    return list_to_sort\n"
   ]
  },
  {
   "cell_type": "code",
   "execution_count": 4,
   "metadata": {},
   "outputs": [
    {
     "name": "stdout",
     "output_type": "stream",
     "text": [
      "         13489679 function calls (12489879 primitive calls) in 4.058 seconds\n",
      "\n",
      "   Ordered by: standard name\n",
      "\n",
      "   ncalls  tottime  percall  cumtime  percall filename:lineno(function)\n",
      "999900/100    3.336    0.000    4.058    0.041 1553558251.py:1(mergeSort)\n",
      "        1    0.000    0.000    4.058    4.058 3823423803.py:4(perf)\n",
      "        1    0.000    0.000    4.058    4.058 <string>:1(<module>)\n",
      "        1    0.000    0.000    4.058    4.058 {built-in method builtins.exec}\n",
      " 12489775    0.722    0.000    0.722    0.000 {built-in method builtins.len}\n",
      "        1    0.000    0.000    0.000    0.000 {method 'disable' of '_lsprof.Profiler' objects}\n",
      "\n",
      "\n"
     ]
    }
   ],
   "source": [
    "list_to_sort = generate_array(num_of_arr, num_of_elem)\n",
    "\n",
    "\n",
    "def perf():\n",
    "    for r in list_to_sort:\n",
    "        mergeSort(r)\n",
    "\n",
    "\n",
    "cProfile.run('perf()')\n"
   ]
  }
 ],
 "metadata": {
  "kernelspec": {
   "display_name": "Python 3",
   "language": "python",
   "name": "python3"
  },
  "language_info": {
   "codemirror_mode": {
    "name": "ipython",
    "version": 3
   },
   "file_extension": ".py",
   "mimetype": "text/x-python",
   "name": "python",
   "nbconvert_exporter": "python",
   "pygments_lexer": "ipython3",
   "version": "3.9.16"
  },
  "orig_nbformat": 4,
  "vscode": {
   "interpreter": {
    "hash": "907f04077fb5591def24a5519ee287b47a8dbc83b66eaaf3e7631366b1499070"
   }
  }
 },
 "nbformat": 4,
 "nbformat_minor": 2
}
