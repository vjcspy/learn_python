{
 "cells": [
  {
   "cell_type": "markdown",
   "metadata": {},
   "source": [
    "https://www.geeksforgeeks.org/quicksort-on-singly-linked-list/"
   ]
  }
 ],
 "metadata": {
  "kernelspec": {
   "display_name": "Python 3",
   "language": "python",
   "name": "python3"
  },
  "language_info": {
   "name": "python",
   "version": "3.10.9 (main, Feb  1 2023, 01:05:52) [GCC 11.3.0]"
  },
  "orig_nbformat": 4,
  "vscode": {
   "interpreter": {
    "hash": "95429c9b55a6d5f701a491dc44e75a7a38df6fe7c3b0beb58ebe41e553f36311"
   }
  }
 },
 "nbformat": 4,
 "nbformat_minor": 2
}
