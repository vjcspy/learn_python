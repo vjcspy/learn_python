{
 "cells": [
  {
   "cell_type": "markdown",
   "metadata": {},
   "source": [
    "https://www.geeksforgeeks.org/quicksort-on-singly-linked-list/"
   ]
  }
 ],
 "metadata": {
  "kernelspec": {
   "display_name": "Python 3",
   "language": "python",
   "name": "python3"
  },
  "language_info": {
   "name": "python",
   "version": "3.9.16 (main, Dec 10 2022, 23:01:24) \n[Clang 14.0.0 (clang-1400.0.29.202)]"
  },
  "orig_nbformat": 4,
  "vscode": {
   "interpreter": {
    "hash": "907f04077fb5591def24a5519ee287b47a8dbc83b66eaaf3e7631366b1499070"
   }
  }
 },
 "nbformat": 4,
 "nbformat_minor": 2
}
