{
 "cells": [
  {
   "attachments": {},
   "cell_type": "markdown",
   "metadata": {},
   "source": [
    "https://leetcode.com/problems/merge-two-sorted-lists/description/\n",
    "\n",
    "You are given the heads of two ***sorted linked lists*** `list1` and `list2`.\n",
    "\n",
    "Merge the two lists in a one ***sorted*** list. The list should be made by splicing together the nodes of the first two lists.\n",
    "\n",
    "Return the ***head*** of the ***merged linked list***.\n",
    "\n",
    "Example 1:\n",
    "\n",
    "```\n",
    "Input: list1 = [1,2,4], list2 = [1,3,4]\n",
    "Output: [1,1,2,3,4,4]\n",
    "```\n",
    "\n",
    "Example 2:\n",
    "\n",
    "```\n",
    "Input: list1 = [], list2 = []\n",
    "Output: []\n",
    "```\n",
    "\n",
    "Example 3:\n",
    "\n",
    "```\n",
    "Input: list1 = [], list2 = [0]\n",
    "Output: [0]\n",
    "```"
   ]
  },
  {
   "attachments": {},
   "cell_type": "markdown",
   "metadata": {},
   "source": [
    "Linked list là gì? Viết theo typescript thì hiểu ngay\n",
    "\n",
    "```typescript\n",
    "  class ListNode {\n",
    "      val: number\n",
    "      next: ListNode | null\n",
    "      constructor(val?: number, next?: ListNode | null) {\n",
    "          this.val = (val===undefined ? 0 : val)\n",
    "          this.next = (next===undefined ? null : next)\n",
    "      }\n",
    "  }\n",
    "```"
   ]
  },
  {
   "cell_type": "code",
   "execution_count": null,
   "metadata": {},
   "outputs": [],
   "source": [
    "from typing import Optional\n",
    "\n",
    "# Definition for singly-linked list.\n",
    "class ListNode:\n",
    "    def __init__(self, val=0, next=None):\n",
    "        self.val = val\n",
    "        self.next = next"
   ]
  },
  {
   "attachments": {},
   "cell_type": "markdown",
   "metadata": {},
   "source": [
    "Mình đã quen với đệ quy, nên code là ra luôn:"
   ]
  },
  {
   "cell_type": "code",
   "execution_count": null,
   "metadata": {},
   "outputs": [],
   "source": [
    "# Bằng phương pháp đệ quy (recursive)\n",
    "class Solution:\n",
    "    def mergeTwoLists(self, list1: Optional[ListNode], list2: Optional[ListNode]) -> Optional[ListNode]:\n",
    "        if not list1 or not list2:\n",
    "            return list1 or list2\n",
    "\n",
    "        return self.resolveNode(ListNode(), list1, list2)\n",
    "\n",
    "    def resolveNode(self, node: ListNode, list1: Optional[ListNode], list2: Optional[ListNode]) -> Optional[ListNode]:\n",
    "        if (list1.val > list2.val):\n",
    "            node.val = list2.val\n",
    "            node.next = list1 if not list2.next else self.resolveNode(\n",
    "                ListNode(), list1, list2.next)\n",
    "        else:\n",
    "            node.val = list1.val\n",
    "            node.next = list2 if not list1.next else self.resolveNode(\n",
    "                ListNode(), list1.next, list2)\n",
    "\n",
    "        return node\n"
   ]
  },
  {
   "attachments": {},
   "cell_type": "markdown",
   "metadata": {},
   "source": [
    "Thử tư duy với vòng lặp"
   ]
  },
  {
   "cell_type": "code",
   "execution_count": null,
   "metadata": {},
   "outputs": [],
   "source": [
    "# Lặp (Iterative)\n",
    "class Solution:\n",
    "    def mergeTwoLists(self, list1: Optional[ListNode], list2: Optional[ListNode]) -> Optional[ListNode]:\n",
    "\n",
    "        if not list1 or not list2:\n",
    "            return list1 or list2\n",
    "\n",
    "        c_node1 = list1\n",
    "        c_node2 = list2\n",
    "\n",
    "        node = head = ListNode()\n",
    "\n",
    "        while c_node1 or c_node2:\n",
    "            # check value hien tai cua 2 node\n",
    "            if not c_node1:\n",
    "                node.val = c_node2.val\n",
    "                node.next = c_node2.next\n",
    "                return head\n",
    "\n",
    "            if not c_node2:\n",
    "                node.val = c_node1.val\n",
    "                node.next = c_node1.next\n",
    "                return head\n",
    "\n",
    "            # den day thi ca 2 deu co value hien tai\n",
    "            if (c_node1.val > c_node2.val):\n",
    "                val = c_node2.val\n",
    "                c_node2 = c_node2.next\n",
    "            else:\n",
    "                val = c_node1.val\n",
    "                c_node1 = c_node1.next\n",
    "\n",
    "            node.val = val\n",
    "            node.next = ListNode()\n",
    "            node = node.next\n",
    "\n",
    "        return head\n"
   ]
  },
  {
   "cell_type": "code",
   "execution_count": null,
   "metadata": {},
   "outputs": [],
   "source": [
    "# 80% giống cái trên nhưng tối ưu bộ nhớ bằng cách sử dụng lại các node sẵn có trong list1 và list2\n",
    "# Input: list1 = [1,2,4], list2 = [3,4,5]\n",
    "class Solution:\n",
    "    def mergeTwoLists(self, list1: Optional[ListNode], list2: Optional[ListNode]) -> Optional[ListNode]:\n",
    "        cur = head = ListNode()\n",
    "        while list1 and list2:               \n",
    "            if list1.val < list2.val:\n",
    "                cur.next = list1\n",
    "                cur = cur.next\n",
    "                list1 = list1.next\n",
    "            else:\n",
    "                cur.next = list2\n",
    "                cur = cur.next\n",
    "                list2 = list2.next\n",
    "                \n",
    "        if list1 or list2:\n",
    "            cur.next = list1 if list1 else list2\n",
    "            \n",
    "        return head.next"
   ]
  },
  {
   "cell_type": "code",
   "execution_count": null,
   "metadata": {},
   "outputs": [],
   "source": [
    "# Thử tư duy với recuríve but reuse ListNode(not create new variables)\n",
    "# list1 = [1,2,4], list2 = [1,3,4]\n",
    "\n",
    "class Solution:\n",
    "    def mergeTwoLists(self, list1: Optional[ListNode], list2: Optional[ListNode]) -> Optional[ListNode]:\n",
    "        return self.resolveNextNode(ListNode(), list1, list2).next\n",
    "\n",
    "    def resolveNextNode(self, node: ListNode, list1: Optional[ListNode], list2: Optional[ListNode]) -> Optional[ListNode]:\n",
    "        if list1 and list2:\n",
    "            if (list1.val > list2.val):\n",
    "                node.next = list2\n",
    "                self.resolveNextNode(node.next, list1, list2.next)\n",
    "            else:\n",
    "                node.next = list1\n",
    "                self.resolveNextNode(node.next, list1.next, list2)\n",
    "        else:\n",
    "            node.next = list1 if list1 else list2\n",
    "\n",
    "        return node\n"
   ]
  }
 ],
 "metadata": {
  "kernelspec": {
   "display_name": "Python 3",
   "language": "python",
   "name": "python3"
  },
  "language_info": {
   "codemirror_mode": {
    "name": "ipython",
    "version": 3
   },
   "file_extension": ".py",
   "mimetype": "text/x-python",
   "name": "python",
   "nbconvert_exporter": "python",
   "pygments_lexer": "ipython3",
   "version": "3.9.16 (main, Dec 10 2022, 23:01:24) \n[Clang 14.0.0 (clang-1400.0.29.202)]"
  },
  "orig_nbformat": 4,
  "vscode": {
   "interpreter": {
    "hash": "907f04077fb5591def24a5519ee287b47a8dbc83b66eaaf3e7631366b1499070"
   }
  }
 },
 "nbformat": 4,
 "nbformat_minor": 2
}
