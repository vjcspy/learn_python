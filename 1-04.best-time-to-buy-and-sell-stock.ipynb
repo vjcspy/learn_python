{
 "cells": [
  {
   "attachments": {},
   "cell_type": "markdown",
   "metadata": {},
   "source": [
    "https://leetcode.com/problems/best-time-to-buy-and-sell-stock/\n",
    "\n",
    "You are given an array prices where prices[i] is the price of a given stock on the ith day.\n",
    "\n",
    "You want to maximize your profit by choosing a single day to buy one stock and choosing a different day in the future to sell that stock.\n",
    "\n",
    "Return the maximum profit you can achieve from this transaction. If you cannot achieve any profit, return 0."
   ]
  },
  {
   "attachments": {},
   "cell_type": "markdown",
   "metadata": {},
   "source": [
    "Input: prices = [7,1,5,3,6,4]\n",
    "\n",
    "Output: 5\n",
    "\n",
    "Explanation: Buy on day 2 (price = 1) and sell on day 5 (price = 6), profit = 6-1 = 5.\n",
    "\n",
    "Note that buying on day 2 and selling on day 1 is not allowed because you must buy before you sell.\n"
   ]
  },
  {
   "attachments": {},
   "cell_type": "markdown",
   "metadata": {},
   "source": [
    "Input: prices = [7,6,4,3,1]\n",
    "\n",
    "Output: 0\n",
    "\n",
    "Explanation: In this case, no transactions are done and the max profit = 0."
   ]
  },
  {
   "cell_type": "code",
   "execution_count": 1,
   "metadata": {},
   "outputs": [],
   "source": [
    "from typing import List\n",
    "import math"
   ]
  },
  {
   "cell_type": "code",
   "execution_count": 2,
   "metadata": {},
   "outputs": [
    {
     "data": {
      "text/plain": [
       "5"
      ]
     },
     "execution_count": 2,
     "metadata": {},
     "output_type": "execute_result"
    }
   ],
   "source": [
    "class Solution:\n",
    "    def maxProfit(self, prices: List[int]) -> int:\n",
    "        lowest_price = prices[0]\n",
    "        profit = 0\n",
    "        for price in prices:\n",
    "            profit = max(price - lowest_price, profit)\n",
    "            lowest_price = min(lowest_price, price)\n",
    "        return profit\n",
    "\n",
    "\n",
    "c = Solution()\n",
    "c.maxProfit([7, 1, 5, 3, 6, 4])\n"
   ]
  }
 ],
 "metadata": {
  "kernelspec": {
   "display_name": "Python 3",
   "language": "python",
   "name": "python3"
  },
  "language_info": {
   "codemirror_mode": {
    "name": "ipython",
    "version": 3
   },
   "file_extension": ".py",
   "mimetype": "text/x-python",
   "name": "python",
   "nbconvert_exporter": "python",
   "pygments_lexer": "ipython3",
   "version": "3.11.4"
  },
  "orig_nbformat": 4,
  "vscode": {
   "interpreter": {
    "hash": "907f04077fb5591def24a5519ee287b47a8dbc83b66eaaf3e7631366b1499070"
   }
  }
 },
 "nbformat": 4,
 "nbformat_minor": 2
}
