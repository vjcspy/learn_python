{
 "cells": [
  {
   "attachments": {},
   "cell_type": "markdown",
   "metadata": {},
   "source": [
    "https://leetcode.com/problems/valid-parentheses/\n",
    "\n",
    "Given a string s containing just the characters '(', ')', '{', '}', '[' and ']', determine if the input string is valid.\n",
    "\n",
    "An input string is valid if:\n",
    "\n",
    "Open brackets must be closed by the same type of brackets.\n",
    "Open brackets must be closed in the correct order.\n",
    "Every close bracket has a corresponding open bracket of the same type.\n",
    " \n",
    "\n",
    "Example 1:\n",
    "\n",
    "```\n",
    "Input: s = \"()\"\n",
    "Output: true\n",
    "```\n",
    "Example 2:\n",
    "\n",
    "```\n",
    "Input: s = \"()[]{}\"\n",
    "Output: true\n",
    "```\n",
    "Example 3:\n",
    "\n",
    "```\n",
    "Input: s = \"(]\"\n",
    "Output: false\n",
    "```"
   ]
  },
  {
   "attachments": {},
   "cell_type": "markdown",
   "metadata": {},
   "source": [
    "(({[{()[]}]}))"
   ]
  },
  {
   "cell_type": "code",
   "execution_count": 1,
   "metadata": {},
   "outputs": [
    {
     "data": {
      "text/plain": [
       "True"
      ]
     },
     "execution_count": 1,
     "metadata": {},
     "output_type": "execute_result"
    }
   ],
   "source": [
    "class Solution:\n",
    "    def isValid(self, s: str) -> bool:\n",
    "        stack = []\n",
    "        dic = {\n",
    "            \"(\": \")\",\n",
    "            \"{\": \"}\",\n",
    "            \"[\": \"]\",\n",
    "        }\n",
    "        for c in s:\n",
    "            if (c in dic):\n",
    "                stack.append(dic[c])\n",
    "            elif not stack or stack.pop() != c:\n",
    "                return False\n",
    "\n",
    "        return not stack\n",
    "\n",
    "\n",
    "s = Solution()\n",
    "s.isValid(\"()[]{}\")\n"
   ]
  }
 ],
 "metadata": {
  "kernelspec": {
   "display_name": "Python 3",
   "language": "python",
   "name": "python3"
  },
  "language_info": {
   "codemirror_mode": {
    "name": "ipython",
    "version": 3
   },
   "file_extension": ".py",
   "mimetype": "text/x-python",
   "name": "python",
   "nbconvert_exporter": "python",
   "pygments_lexer": "ipython3",
   "version": "3.9.16 (main, Dec 10 2022, 23:01:24) \n[Clang 14.0.0 (clang-1400.0.29.202)]"
  },
  "orig_nbformat": 4,
  "vscode": {
   "interpreter": {
    "hash": "907f04077fb5591def24a5519ee287b47a8dbc83b66eaaf3e7631366b1499070"
   }
  }
 },
 "nbformat": 4,
 "nbformat_minor": 2
}
