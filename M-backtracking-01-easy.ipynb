{
 "cells": [
  {
   "cell_type": "markdown",
   "metadata": {},
   "source": [
    "Given an array Arr[] of size N, print all the subsets of the array.\n",
    "\n",
    "Subset: A subset of an array is a tuple that can be obtained from the array by removing some (possibly all) elements of it\n",
    "\n",
    "## Example\n",
    "Input: N = 3, Arr = [1, 2, 3]\n",
    "Output: {}\n",
    "{1}\n",
    "{1, 2}\n",
    "{1, 2, 3}\n",
    "{1, 3}\n",
    "{2}\n",
    "{2, 3}\n",
    "{3}\n",
    "Explanation: These are all the subsets that can be formed from the given array, it can be proven that no other subset exists other than the given output.\n",
    "\n",
    "Input: N = 2, Arr = [2, 4]\n",
    "Output: {}\n",
    "{2}\n",
    "{2, 4}\n",
    "{4}\n",
    "Explanation: These are all the subsets that can be formed from the given array, it can be proven that no other subset exists other than the given output."
   ]
  },
  {
   "cell_type": "code",
   "execution_count": 38,
   "metadata": {},
   "outputs": [
    {
     "name": "stdout",
     "output_type": "stream",
     "text": [
      "\n",
      "1\n",
      "1 2\n",
      "1 2 3\n",
      "1 3\n",
      "2\n",
      "2 3\n",
      "3\n"
     ]
    }
   ],
   "source": [
    "# Đây là cách giải của geek, đọc lần đầu khó mà hiểu được\n",
    "def calcSubset(A, res, subset, index):\n",
    "    # Add the current subset to the result list\n",
    "    res.append(subset[:])\n",
    " \n",
    "    # Generate subsets by recursively including and excluding elements\n",
    "    for i in range(index, len(A)):\n",
    "        # Include the current element in the subset\n",
    "        subset.append(A[i])\n",
    " \n",
    "        # Recursively generate subsets with the current element included\n",
    "        calcSubset(A, res, subset, i + 1)\n",
    " \n",
    "        # Exclude the current element from the subset (backtracking)\n",
    "        subset.pop()\n",
    " \n",
    " \n",
    "def subsets(A):\n",
    "    subset = []\n",
    "    res = []\n",
    "    index = 0\n",
    "    calcSubset(A, res, subset, index)\n",
    "    return res\n",
    " \n",
    " \n",
    "# Driver code\n",
    "if __name__ == \"__main__\":\n",
    "    array = [1, 2, 3]\n",
    "    res = subsets(array)\n",
    " \n",
    "    # Print the generated subsets\n",
    "    for subset in res:\n",
    "        print(*subset)"
   ]
  },
  {
   "cell_type": "markdown",
   "metadata": {},
   "source": [
    "# ĐÂY LÀ CÁCH GIẢI CỦA MÌNH, DỄ HIỂU, BACKTRACKING thật ngớ ngẩn\n",
    "\n",
    "[1,2,3,4]\n",
    "\n",
    "1\n",
    "1 2\n",
    "1 3\n",
    "1 4\n",
    "1 2 3\n",
    "1 2 4\n",
    "1 2 3 4\n",
    "2 \n",
    "2 3\n",
    "2 4\n",
    "2 3 4\n",
    "3\n",
    "3 4"
   ]
  },
  {
   "cell_type": "code",
   "execution_count": 37,
   "metadata": {},
   "outputs": [
    {
     "name": "stdout",
     "output_type": "stream",
     "text": [
      "length: 15\n",
      "1\n",
      "1 2\n",
      "1 2 3\n",
      "1 2 3 4\n",
      "1 2 4\n",
      "1 3\n",
      "1 3 4\n",
      "1 4\n",
      "2\n",
      "2 3\n",
      "2 3 4\n",
      "2 4\n",
      "3\n",
      "3 4\n",
      "4\n"
     ]
    }
   ],
   "source": [
    "def cal_subset(A: list, point: int, subset: list, results: list):\n",
    "    subset = subset + [A[point]]\n",
    "\n",
    "    results.append(subset)\n",
    "\n",
    "    for i in range(point + 1, len(A)):\n",
    "        cal_subset(A, i, subset, results)\n",
    "\n",
    "\n",
    "def solution(A: list[int]):\n",
    "    results = []\n",
    "\n",
    "    for i in range(len(A)):\n",
    "        cal_subset(A, i, [], results)\n",
    "        \n",
    "    return results\n",
    "\n",
    "\n",
    "if __name__ == \"__main__\":\n",
    "    array = [1, 2, 3, 4]\n",
    "    res = solution(array)\n",
    "\n",
    "    # Print the generated subsets\n",
    "    print(f\"length: {len(res)}\")\n",
    "    for subset in res:\n",
    "        print(*subset)"
   ]
  }
 ],
 "metadata": {
  "kernelspec": {
   "display_name": "grind75-env",
   "language": "python",
   "name": "python3"
  },
  "language_info": {
   "codemirror_mode": {
    "name": "ipython",
    "version": 3
   },
   "file_extension": ".py",
   "mimetype": "text/x-python",
   "name": "python",
   "nbconvert_exporter": "python",
   "pygments_lexer": "ipython3",
   "version": "3.11.4"
  }
 },
 "nbformat": 4,
 "nbformat_minor": 2
}
