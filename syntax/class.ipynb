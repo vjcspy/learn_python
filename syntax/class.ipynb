{
 "cells": [
  {
   "cell_type": "code",
   "execution_count": null,
   "metadata": {},
   "outputs": [],
   "source": [
    "class TreeNode:\n",
    "    def __init__(self, x, left = None, right = None):\n",
    "        self.value = x;\n",
    "        self.left = left;\n",
    "        self.right = right;\n",
    "        \n",
    "    def __str__(self):\n",
    "        return \"Sẽ được call khi ép kiểu string của object\"\n",
    "    \n",
    "    def myfunc(self):\n",
    "        print(\"Hello\")\n",
    "        \n",
    "tree1 = TreeNode()"
   ]
  },
  {
   "attachments": {},
   "cell_type": "markdown",
   "metadata": {},
   "source": [
    "- Khác hẳn với các ngôn ngữ khác, **property** của class không cần phải khai báo khi nó được gán ở constructor.\n",
    "- Tạo instance cũng không cần từ khoá **new** như các ngôn ngữ khác"
   ]
  },
  {
   "cell_type": "code",
   "execution_count": null,
   "metadata": {},
   "outputs": [],
   "source": [
    "# Để delete property\n",
    "del tree1.vale\n",
    "\n",
    "# Muốn khai báo 1 function hoặc 1 class empty thì có thể dùng từ khoá pass\n",
    "\n",
    "class MyClass:\n",
    "    pass"
   ]
  }
 ],
 "metadata": {
  "kernelspec": {
   "display_name": "Python 3",
   "language": "python",
   "name": "python3"
  },
  "language_info": {
   "name": "python",
   "version": "3.11.4"
  },
  "orig_nbformat": 4
 },
 "nbformat": 4,
 "nbformat_minor": 2
}
