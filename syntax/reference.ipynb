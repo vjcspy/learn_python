{
 "cells": [
  {
   "attachments": {},
   "cell_type": "markdown",
   "metadata": {},
   "source": [
    "Python cũng giống như javascript, các kiểu dữ liệu nếu là object thì sẽ mutable, Và do đó nếu được pass vào function như là một argument thì sẽ reference "
   ]
  },
  {
   "cell_type": "code",
   "execution_count": 7,
   "metadata": {},
   "outputs": [
    {
     "name": "stdout",
     "output_type": "stream",
     "text": [
      "['default']\n"
     ]
    }
   ],
   "source": [
    "from typing import List\n",
    "\n",
    "\n",
    "class Test:\n",
    "    def test(self):\n",
    "        t_list = [\"default\"]\n",
    "        self.test1(t_list)\n",
    "        self.test1(t_list)\n",
    "        self.test2(t_list)\n",
    "\n",
    "    def test1(self, chain: List):\n",
    "        chain = [x for x in chain]\n",
    "        chain.append('test1')\n",
    "\n",
    "    def test2(self, chain: List):\n",
    "        print(chain)\n",
    "\n",
    "\n",
    "a = Test()\n",
    "a.test()\n"
   ]
  }
 ],
 "metadata": {
  "kernelspec": {
   "display_name": "Python 3",
   "language": "python",
   "name": "python3"
  },
  "language_info": {
   "codemirror_mode": {
    "name": "ipython",
    "version": 3
   },
   "file_extension": ".py",
   "mimetype": "text/x-python",
   "name": "python",
   "nbconvert_exporter": "python",
   "pygments_lexer": "ipython3",
   "version": "3.9.16"
  },
  "orig_nbformat": 4,
  "vscode": {
   "interpreter": {
    "hash": "907f04077fb5591def24a5519ee287b47a8dbc83b66eaaf3e7631366b1499070"
   }
  }
 },
 "nbformat": 4,
 "nbformat_minor": 2
}
