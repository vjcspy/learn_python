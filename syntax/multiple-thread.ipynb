{
 "cells": [
  {
   "attachments": {},
   "cell_type": "markdown",
   "metadata": {},
   "source": [
    "## Starting with thread\n",
    "Đây là cách cơ bản nhất, nhanh nhất để tạo một thread trong python"
   ]
  },
  {
   "cell_type": "code",
   "execution_count": null,
   "metadata": {},
   "outputs": [],
   "source": [
    "import _thread\n",
    "import time\n",
    "import random\n",
    "\n",
    "origin_value = {\n",
    "    \"a\": 1,\n",
    "    \"b\": 2\n",
    "}\n",
    "\n",
    "\n",
    "def change_value(dir, key, value, delay):\n",
    "    time.sleep(delay)\n",
    "    dir[key] = value\n",
    "\n",
    "\n",
    "try:\n",
    "    _thread.start_new_thread(change_value, (origin_value, \"a\", \"changed\", 1))\n",
    "    _thread.start_new_thread(change_value, (origin_value, \"b\", \"changed\", 2))\n",
    "except:\n",
    "    print(\"Error: unable to start thread\")\n"
   ]
  },
  {
   "attachments": {},
   "cell_type": "markdown",
   "metadata": {},
   "source": [
    "Kể cả chạy ở thread khác thì argument được passed vào thread function vẫn có thể referenced"
   ]
  },
  {
   "cell_type": "code",
   "execution_count": null,
   "metadata": {},
   "outputs": [],
   "source": [
    "print(origin_value)"
   ]
  },
  {
   "attachments": {},
   "cell_type": "markdown",
   "metadata": {},
   "source": [
    "## Threading Module\n",
    "\n",
    "Tuy nhiên, khi thực hiện các công việc phức tạp hơn, chẳng hạn như phải chờ thread nào đó hoàn thành mới chạy sang bước tiếp theo... Buộc phải sử dụng `Threading Module`"
   ]
  },
  {
   "cell_type": "code",
   "execution_count": null,
   "metadata": {},
   "outputs": [],
   "source": [
    "import threading\n",
    "\n",
    "\n",
    "def do_async_job(threadName, delay):\n",
    "    print(\"%s: %s\" % (threadName, time.ctime(time.time())))\n",
    "    time.sleep(delay)\n"
   ]
  },
  {
   "attachments": {},
   "cell_type": "markdown",
   "metadata": {},
   "source": [
    "The threading module exposes all the methods of the thread module and provides some additional methods −\n",
    "\n",
    "- threading.activeCount() − Returns the number of thread objects that are active.\n",
    "\n",
    "- threading.currentThread() − Returns the number of thread objects in the caller's thread control.\n",
    "\n",
    "- threading.enumerate() − Returns a list of all thread objects that are currently active.\n",
    "\n",
    "In addition to the methods, the threading module has the Thread class that implements threading. The methods provided by the Thread class are as follows −\n",
    "\n",
    "- run() − The run() method is the entry point for a thread.\n",
    "\n",
    "- start() − The start() method starts a thread by calling the run method.\n",
    "\n",
    "- join([time]) − The join() waits for threads to terminate.\n",
    "\n",
    "- is_alive() − The is_alive() method checks whether a thread is still executing.\n",
    "\n",
    "- getName() − The getName() method returns the name of a thread.\n",
    "\n",
    "- setName() − The setName() method sets the name of a thread."
   ]
  },
  {
   "attachments": {},
   "cell_type": "markdown",
   "metadata": {},
   "source": [
    "Ví dụ đơn giản khi dùng threading module"
   ]
  },
  {
   "cell_type": "code",
   "execution_count": null,
   "metadata": {},
   "outputs": [],
   "source": [
    "class SimpleThreading(threading.Thread):\n",
    "    def __init__(self, name):\n",
    "        threading.Thread.__init__(self)\n",
    "        self.name = name\n",
    "\n",
    "    def run(self):\n",
    "        print(\"Starting thread\", self.name)\n",
    "        do_async_job(self.name, random.randint(1, 4))\n",
    "        print(\"Exiting\", self.name)\n",
    "\n",
    "\n",
    "thread1 = SimpleThreading('thread1')\n",
    "thread2 = SimpleThreading('thread2')\n",
    "\n",
    "thread1.start()\n",
    "thread2.start()\n",
    "\n",
    "# Thread 2 có thể xong trước những vẫn phải chở thread1 xong đã mới chạy đến check thread2\n",
    "print('wait thread1')\n",
    "thread1.join()\n",
    "print('wait thread2')\n",
    "thread2.join()\n",
    "\n",
    "print(\"Done\")\n"
   ]
  },
  {
   "attachments": {},
   "cell_type": "markdown",
   "metadata": {},
   "source": [
    "## Synchronizing Threads"
   ]
  },
  {
   "attachments": {},
   "cell_type": "markdown",
   "metadata": {},
   "source": [
    "Threading module cung cấp 1 cơ chế dễ thực hiện để cho các thread chạy đồng bộ trong một block code nào đó. \n",
    "\n",
    "Tức là khi được called các thread vẫn chạy async, nhưng đến 1 block code nào đó(có thể là gọi vào 1 function), chúng ta không muốn function đó được chạy đồng thời ở nhiều thread, lúc đó sẽ sử dụng cơ chế locking này."
   ]
  },
  {
   "cell_type": "code",
   "execution_count": null,
   "metadata": {},
   "outputs": [],
   "source": [
    "class SynchronizingThread (threading.Thread):\n",
    "    def __init__(self, threadID, name, counter):\n",
    "        threading.Thread.__init__(self)\n",
    "        self.threadID = threadID\n",
    "        self.name = name\n",
    "        self.counter = counter\n",
    "\n",
    "    def run(self):\n",
    "        print(\"Starting \" + self.name)\n",
    "        # Get lock to synchronize threads\n",
    "        lock = threadLock.acquire()\n",
    "        print(\"lock value\", lock)\n",
    "        print_time(self.name, self.counter, 3)\n",
    "        # Free lock to release next thread\n",
    "        threadLock.release()\n",
    "\n",
    "\n",
    "def print_time(threadName, delay, counter):\n",
    "    while counter:\n",
    "        time.sleep(delay)\n",
    "        print(\"%s: %s\" % (threadName, time.ctime(time.time())))\n",
    "        counter -= 1\n",
    "\n",
    "\n",
    "threadLock = threading.Lock()\n",
    "threads = []\n",
    "\n",
    "# Create new threads\n",
    "sync_thread1 = SynchronizingThread(1, \"Thread-1\", 1)\n",
    "sync_thread2 = SynchronizingThread(2, \"Thread-2\", 2)\n",
    "\n",
    "# Start new Threads\n",
    "sync_thread1.start()\n",
    "sync_thread2.start()\n",
    "\n",
    "# Add threads to thread list\n",
    "threads.append(sync_thread1)\n",
    "threads.append(sync_thread2)\n",
    "\n",
    "# Wait for all threads to complete\n",
    "for t in threads:\n",
    "    t.join()\n",
    "\n",
    "print(\"Exiting Main Thread\")\n"
   ]
  }
 ],
 "metadata": {
  "kernelspec": {
   "display_name": "Python 3",
   "language": "python",
   "name": "python3"
  },
  "language_info": {
   "codemirror_mode": {
    "name": "ipython",
    "version": 3
   },
   "file_extension": ".py",
   "mimetype": "text/x-python",
   "name": "python",
   "nbconvert_exporter": "python",
   "pygments_lexer": "ipython3",
   "version": "3.10.9 (main, Feb  1 2023, 01:05:52) [GCC 11.3.0]"
  },
  "orig_nbformat": 4,
  "vscode": {
   "interpreter": {
    "hash": "95429c9b55a6d5f701a491dc44e75a7a38df6fe7c3b0beb58ebe41e553f36311"
   }
  }
 },
 "nbformat": 4,
 "nbformat_minor": 2
}
