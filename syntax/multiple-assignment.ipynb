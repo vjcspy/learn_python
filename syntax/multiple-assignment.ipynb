{
 "cells": [
  {
   "attachments": {},
   "cell_type": "markdown",
   "metadata": {},
   "source": [
    "Có 1 kiểu assign rất fancy đó là khi trong cùng 1 line thì sẽ giữ được state của biến được assign tại thời điểm trước line đó. Cụ thể xem ví dụ dưới đây"
   ]
  },
  {
   "cell_type": "code",
   "execution_count": null,
   "metadata": {},
   "outputs": [],
   "source": [
    "a, b = 1, 0\n",
    "print(a,b)\n",
    "\n",
    "# viet trong cung mot dau = thi se giu lai pointer vao a truoc khi a = a+1\n",
    "a, b = a+1, a\n",
    "print(a,b) # 2 1\n",
    "\n",
    "a = a+1\n",
    "b = a\n",
    "print(a,b) # 3 3\n",
    "\n",
    "b = a\n",
    "a = a+1\n",
    "print(a,b) # 4 3"
   ]
  }
 ],
 "metadata": {
  "language_info": {
   "name": "python"
  },
  "orig_nbformat": 4
 },
 "nbformat": 4,
 "nbformat_minor": 2
}
