{
 "cells": [
  {
   "attachments": {},
   "cell_type": "markdown",
   "metadata": {},
   "source": [
    "https://leetcode.com/problems/two-sum/\n",
    "\n",
    "Given an array of integers nums and an integer target, return indices of the two numbers such that they add up to target.\n",
    "\n",
    "You may assume that each input would have exactly one solution, and you may not use the same element twice.\n",
    "\n",
    "You can return the answer in any order.\n",
    "\n",
    "Example 1:\n",
    "\n",
    "```\n",
    "Input: nums = [2,7,11,15], target = 9\n",
    "Output: [0,1]\n",
    "Explanation: Because nums[0] + nums[1] == 9, we return [0, 1].\n",
    "```\n",
    "\n",
    "Example 2:\n",
    "\n",
    "```\n",
    "Input: nums = [3,2,4], target = 6\n",
    "Output: [1,2]\n",
    "```\n",
    "\n",
    "Example 3:\n",
    "\n",
    "```\n",
    "Input: nums = [3,3], target = 6\n",
    "Output: [0,1]\n",
    "```\n"
   ]
  },
  {
   "cell_type": "code",
   "execution_count": 1,
   "metadata": {},
   "outputs": [],
   "source": [
    "from typing import List"
   ]
  },
  {
   "attachments": {},
   "cell_type": "markdown",
   "metadata": {},
   "source": [
    "_Đây là solution củ chuối nhất do mình nghĩ ra :)) **O(n^2)**\n"
   ]
  },
  {
   "cell_type": "code",
   "execution_count": 2,
   "metadata": {},
   "outputs": [
    {
     "name": "stdout",
     "output_type": "stream",
     "text": [
      "check 2 and 7\n"
     ]
    },
    {
     "data": {
      "text/plain": [
       "[0, 1]"
      ]
     },
     "execution_count": 2,
     "metadata": {},
     "output_type": "execute_result"
    }
   ],
   "source": [
    "class Solution1:\n",
    "    def twoSum(self, nums: List[int], target: int) -> List[int]:\n",
    "        i = 0\n",
    "        while i < len(nums):\n",
    "            j = i + 1\n",
    "            while j < len(nums):\n",
    "                print(f\"check {nums[i]} and {nums[j]}\")\n",
    "                if (nums[i] + nums[j] == target):\n",
    "                    return [i, j]\n",
    "                j += 1\n",
    "            i += 1\n",
    "\n",
    "\n",
    "s1 = Solution1()\n",
    "s1.twoSum([2, 7, 11, 15], 9)\n"
   ]
  },
  {
   "attachments": {},
   "cell_type": "markdown",
   "metadata": {},
   "source": [
    "_Đây là solution sử dụng các built-in function, nhìn code sẽ đẹp hơn_\n"
   ]
  },
  {
   "cell_type": "code",
   "execution_count": 3,
   "metadata": {},
   "outputs": [
    {
     "data": {
      "text/plain": [
       "(1, 4)"
      ]
     },
     "execution_count": 3,
     "metadata": {},
     "output_type": "execute_result"
    }
   ],
   "source": [
    "class Solution2:\n",
    "    def twoSum(self, nums: List[int], target: int) -> List[int]:\n",
    "        for i in nums:\n",
    "            if (target - i) in nums:\n",
    "                return nums.index(i), nums.index(target - i)\n",
    "\n",
    "\n",
    "s2 = Solution2()\n",
    "s2.twoSum([3, 2, 11, 15, 7], 9)\n"
   ]
  },
  {
   "attachments": {},
   "cell_type": "markdown",
   "metadata": {},
   "source": [
    "_Đây là solution bá đạo sử dụng hash_\n",
    "\n",
    "Idea là khi đã loop qua rồi thì sẽ ghi nhớ lại index của nó. Lúc đó độ phức tạp sẽ là **O(n)**\n"
   ]
  },
  {
   "cell_type": "code",
   "execution_count": 4,
   "metadata": {},
   "outputs": [
    {
     "name": "stdout",
     "output_type": "stream",
     "text": [
      "check 3\n",
      "check 2\n",
      "check 11\n",
      "check 15\n",
      "check 7\n"
     ]
    },
    {
     "data": {
      "text/plain": [
       "(1, 4)"
      ]
     },
     "execution_count": 4,
     "metadata": {},
     "output_type": "execute_result"
    }
   ],
   "source": [
    "\n",
    "class Solution3:\n",
    "    def twoSum(self, nums: List[int], target: int) -> List[int]:\n",
    "        map = {}\n",
    "        for i, num in enumerate(nums):\n",
    "            print(f\"check {num}\")\n",
    "            if (target - num) in map:\n",
    "                return map[target - num], i\n",
    "            else:\n",
    "                map[nums[i]] = i\n",
    "\n",
    "\n",
    "s3 = Solution3()\n",
    "s3.twoSum([3, 2, 11, 15, 7], 9)\n"
   ]
  },
  {
   "attachments": {},
   "cell_type": "markdown",
   "metadata": {},
   "source": [
    "Cái này tối ưu hơn một xíu, ghi nhớ index của element cần nó **O(n)**"
   ]
  },
  {
   "cell_type": "code",
   "execution_count": 5,
   "metadata": {},
   "outputs": [
    {
     "name": "stdout",
     "output_type": "stream",
     "text": [
      "check 3\n",
      "check 2\n",
      "check 11\n",
      "check 15\n",
      "check 7\n"
     ]
    },
    {
     "data": {
      "text/plain": [
       "(4, 1)"
      ]
     },
     "execution_count": 5,
     "metadata": {},
     "output_type": "execute_result"
    }
   ],
   "source": [
    "class Solution4:\n",
    "    def twoSum(self, nums: List[int], target: int) -> List[int]:\n",
    "        map = {}\n",
    "        for i, num in enumerate(nums):\n",
    "            print(f\"check {num}\")\n",
    "            if num in map:\n",
    "                return i, map[num]\n",
    "            else:\n",
    "                map[target - num] = i\n",
    "\n",
    "\n",
    "s4 = Solution4()\n",
    "s4.twoSum([3, 2, 11, 15, 7], 9)\n"
   ]
  }
 ],
 "metadata": {
  "kernelspec": {
   "display_name": "Python 3",
   "language": "python",
   "name": "python3"
  },
  "language_info": {
   "codemirror_mode": {
    "name": "ipython",
    "version": 3
   },
   "file_extension": ".py",
   "mimetype": "text/x-python",
   "name": "python",
   "nbconvert_exporter": "python",
   "pygments_lexer": "ipython3",
   "version": "3.9.16"
  },
  "orig_nbformat": 4,
  "vscode": {
   "interpreter": {
    "hash": "907f04077fb5591def24a5519ee287b47a8dbc83b66eaaf3e7631366b1499070"
   }
  }
 },
 "nbformat": 4,
 "nbformat_minor": 2
}
