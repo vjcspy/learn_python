{
 "cells": [
  {
   "attachments": {},
   "cell_type": "markdown",
   "metadata": {},
   "source": [
    "https://leetcode.com/problems/invert-binary-tree/\n",
    "\n",
    "\n",
    "![Invert binary tree](assets/invert-binary-tree1.png)\n",
    "\n",
    "```\n",
    "Input: root = [4,2,7,1,3,6,9]\n",
    "Output: [4,7,2,9,6,3,1]\n",
    "```"
   ]
  },
  {
   "attachments": {},
   "cell_type": "markdown",
   "metadata": {},
   "source": [
    "Binary tree sẽ là kết hợp của nhiều node, mà mỗi node sẽ có 2 node con left và right, được define như dưới đây."
   ]
  },
  {
   "cell_type": "code",
   "execution_count": null,
   "metadata": {},
   "outputs": [],
   "source": [
    "from typing import Optional\n",
    "\n",
    "# Definition for a binary tree node.\n",
    "\n",
    "\n",
    "class TreeNode:\n",
    "    def __init__(self, val=0, left=None, right=None):\n",
    "        self.val = val\n",
    "        self.left = left\n",
    "        self.right = right\n"
   ]
  },
  {
   "cell_type": "code",
   "execution_count": null,
   "metadata": {},
   "outputs": [],
   "source": [
    "# recursive\n",
    "class Solution:\n",
    "    def invertTree(self, root: Optional[TreeNode]) -> Optional[TreeNode]:\n",
    "        if root:\n",
    "            root.left, root.right = root.right, root.left\n",
    "            self.invertTree(root.left)\n",
    "            self.invertTree(root.right)\n",
    "        \n",
    "        return root\n"
   ]
  },
  {
   "attachments": {},
   "cell_type": "markdown",
   "metadata": {},
   "source": [
    "Thêm một idea cho việc sử dụng `loop` thay thế cho `recursive`\n",
    "\n",
    "Bằng việc đẩy thứ cần loop ra `queue` sau đó loop trên queue. Như thế này rất dễ để hình dùng, tuy nhiên sẽ lại tốn bộ nhớ để lưu queue và cách loop này chỉ nên nghĩ đến cuối cùng vì nó cũng ko cho performance tốt"
   ]
  },
  {
   "cell_type": "code",
   "execution_count": null,
   "metadata": {},
   "outputs": [],
   "source": [
    "# iterative\n",
    "import collections\n",
    "\n",
    "\n",
    "class Solution:\n",
    "    def invertTree(self, root: Optional[TreeNode]) -> Optional[TreeNode]:\n",
    "        if not root:\n",
    "            return None\n",
    "        \n",
    "        queue = collections.deque([root])\n",
    "        while queue:\n",
    "            current = queue.popleft()\n",
    "            current.left, current.right = current.right, current.left\n",
    "            \n",
    "            if current.left:\n",
    "                queue.append(current.left)\n",
    "            \n",
    "            if current.right:\n",
    "                queue.append(current.right)\n",
    "        \n",
    "        return root"
   ]
  }
 ],
 "metadata": {
  "kernelspec": {
   "display_name": "Python 3",
   "language": "python",
   "name": "python3"
  },
  "language_info": {
   "name": "python",
   "version": "3.9.16 (main, Dec 10 2022, 23:01:24) \n[Clang 14.0.0 (clang-1400.0.29.202)]"
  },
  "orig_nbformat": 4,
  "vscode": {
   "interpreter": {
    "hash": "907f04077fb5591def24a5519ee287b47a8dbc83b66eaaf3e7631366b1499070"
   }
  }
 },
 "nbformat": 4,
 "nbformat_minor": 2
}
