{
 "cells": [
  {
   "attachments": {},
   "cell_type": "markdown",
   "metadata": {},
   "source": [
    "Given a binary search tree (BST), find the lowest common ancestor (LCA) node of two given nodes in the BST.\n",
    "\n",
    "According to the [definition of LCA on Wikipedia](https://en.wikipedia.org/wiki/Lowest_common_ancestor): “The lowest common ancestor is defined between two nodes `p` and `q` as the lowest node in `T` that has both `p` and `q` as descendants (where we allow **a node to be a descendant of itself**).”"
   ]
  },
  {
   "attachments": {},
   "cell_type": "markdown",
   "metadata": {},
   "source": [
    "![Invert binary tree](assets/binarysearchtree_improved.png)\n",
    "```\n",
    "Input: root = [6,2,8,0,4,7,9,null,null,3,5], p = 2, q = 8\n",
    "Output: 6\n",
    "Explanation: The LCA of nodes 2 and 8 is 6.\n",
    "```"
   ]
  },
  {
   "cell_type": "code",
   "execution_count": null,
   "metadata": {},
   "outputs": [],
   "source": [
    "from typing import List\n",
    "\n",
    "\n",
    "class TreeNode:\n",
    "    # Definition for a binary tree node.\n",
    "    def __init__(self, x, left=None, right=None):\n",
    "        self.val = x\n",
    "        self.left = left\n",
    "        self.right = right\n"
   ]
  },
  {
   "cell_type": "code",
   "execution_count": null,
   "metadata": {},
   "outputs": [],
   "source": [
    "# Recursive\n",
    "class Solution:\n",
    "    def lowestCommonAncestor(self, root: 'TreeNode', p: 'TreeNode', q: 'TreeNode') -> 'TreeNode':\n",
    "        self.chain = []\n",
    "        self.findNode(root, p, q, [])\n",
    "\n",
    "        i = (len(self.chain[0]) if len(self.chain[0]) < len(\n",
    "            self.chain[1]) else len(self.chain[1])) - 1\n",
    "\n",
    "        while i > -1:\n",
    "            if self.chain[0][i].val == self.chain[1][i].val:\n",
    "                return self.chain[0][i]\n",
    "            i -= 1\n",
    "\n",
    "        return None\n",
    "\n",
    "    def findNode(self, root: TreeNode, p: TreeNode, q: TreeNode, chain: List):\n",
    "        if root and len(self.chain) < 2:\n",
    "            chain = [x for x in chain]\n",
    "            chain.append(root)\n",
    "            if root.val == p.val or root.val == q.val:\n",
    "                self.chain.append(chain)\n",
    "                if len(self.chain) == 2:\n",
    "                    return\n",
    "\n",
    "            self.findNode(root.left, p, q, chain)\n",
    "            self.findNode(root.right, p, q, chain)\n"
   ]
  }
 ],
 "metadata": {
  "kernelspec": {
   "display_name": "Python 3",
   "language": "python",
   "name": "python3"
  },
  "language_info": {
   "codemirror_mode": {
    "mode": "typescript",
    "name": "javascript",
    "typescript": true
   },
   "file_extension": ".ts",
   "mimetype": "text/typescript",
   "name": "python",
   "version": "3.9.16"
  },
  "orig_nbformat": 4,
  "vscode": {
   "interpreter": {
    "hash": "907f04077fb5591def24a5519ee287b47a8dbc83b66eaaf3e7631366b1499070"
   }
  }
 },
 "nbformat": 4,
 "nbformat_minor": 2
}
