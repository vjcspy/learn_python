{
 "cells": [
  {
   "attachments": {},
   "cell_type": "markdown",
   "metadata": {},
   "source": [
    "Given a binary search tree (BST), find the lowest common ancestor (LCA) node of two given nodes in the BST.\n",
    "\n",
    "According to the [definition of LCA on Wikipedia](https://en.wikipedia.org/wiki/Lowest_common_ancestor): “The lowest common ancestor is defined between two nodes `p` and `q` as the lowest node in `T` that has both `p` and `q` as descendants (where we allow **a node to be a descendant of itself**).”"
   ]
  },
  {
   "attachments": {},
   "cell_type": "markdown",
   "metadata": {},
   "source": [
    "![Invert binary tree](assets/binarysearchtree_improved.png)\n",
    "```\n",
    "Input: root = [6,2,8,0,4,7,9,null,null,3,5], p = 2, q = 8\n",
    "Output: 6\n",
    "Explanation: The LCA of nodes 2 and 8 is 6.\n",
    "```"
   ]
  },
  {
   "cell_type": "code",
   "execution_count": 4,
   "metadata": {},
   "outputs": [],
   "source": [
    "from grind75base.binary_tree import TreeNode, build_binary_tree\n",
    "\n",
    "root = build_binary_tree(node=TreeNode(), data=[6, 2, 8, 0, 4, 7, 9, None, None, 3, 5])\n",
    "\n",
    "\n",
    "# Recursive\n",
    "class Solution:\n",
    "    def lowestCommonAncestor(self, root: TreeNode, p: TreeNode, q: TreeNode):\n",
    "        self.chain = []\n",
    "        self.findNode(root, p, q, [])\n",
    "\n",
    "        i = (\n",
    "            len(self.chain[0])\n",
    "            if len(self.chain[0]) < len(self.chain[1])\n",
    "            else len(self.chain[1])\n",
    "        ) - 1\n",
    "\n",
    "        while i > -1:\n",
    "            if self.chain[0][i].val == self.chain[1][i].val:\n",
    "                return self.chain[0][i]\n",
    "            i -= 1\n",
    "\n",
    "        return None\n",
    "\n",
    "    def findNode(self, root: TreeNode, p: TreeNode, q: TreeNode, chain: list):\n",
    "        if root and len(self.chain) < 2:\n",
    "            chain = [x for x in chain]\n",
    "            chain.append(root)\n",
    "            if root.value == p.value or root.value == q.value:\n",
    "                self.chain.append(chain)\n",
    "                if len(self.chain) == 2:\n",
    "                    return\n",
    "            if root.left is not None:\n",
    "                self.findNode(root.left, p, q, chain)\n",
    "\n",
    "            if root.right is not None:\n",
    "                self.findNode(root.right, p, q, chain)"
   ]
  },
  {
   "cell_type": "code",
   "execution_count": null,
   "metadata": {},
   "outputs": [],
   "source": []
  }
 ],
 "metadata": {
  "kernelspec": {
   "display_name": "Python 3",
   "language": "python",
   "name": "python3"
  },
  "language_info": {
   "codemirror_mode": {
    "name": "ipython",
    "version": 3
   },
   "file_extension": ".py",
   "mimetype": "text/x-python",
   "name": "python",
   "nbconvert_exporter": "python",
   "pygments_lexer": "ipython3",
   "version": "3.11.4"
  },
  "orig_nbformat": 4,
  "vscode": {
   "interpreter": {
    "hash": "907f04077fb5591def24a5519ee287b47a8dbc83b66eaaf3e7631366b1499070"
   }
  }
 },
 "nbformat": 4,
 "nbformat_minor": 2
}
